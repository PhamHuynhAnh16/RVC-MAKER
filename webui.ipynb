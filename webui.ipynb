{
  "cells": [
    {
      "cell_type": "markdown",
      "metadata": {
        "id": "view-in-github",
        "colab_type": "text"
      },
      "source": [
        "<a href=\"https://colab.research.google.com/github/TheNeodev/RVC-MAKER/blob/main/webui.ipynb\" target=\"_parent\"><img src=\"https://colab.research.google.com/assets/colab-badge.svg\" alt=\"Open In Colab\"/></a>"
      ]
    },
    {
      "cell_type": "markdown",
      "metadata": {
        "id": "LVAACnvlmE4I"
      },
      "source": [
        "**This project was created by [TheNeoDev](https://github.com/TheNeodev)** base on [PhamHuynhAnh16/Vietnamese-RVC](https://github.com/PhamHuynhAnh16/Vietnamese-RVC)\n",
        "\n",
        "---\n",
        "\n",
        "<big>**Please do not use the project for any purposes that violate ethics, laws, or cause harm to individuals, organizations...**\n",
        "\n",
        "---\n",
        " **In case the user does not comply with the terms or violates them, I will not be responsible for any claims, damages, or legal liabilities, whether in contract, due to negligence, or other reasons, arising from, out of, or related to the software, the use of the software, or other transactions related to the software.**</big>"
      ]
    },
    {
      "cell_type": "code",
      "execution_count": null,
      "metadata": {
        "cellView": "form",
        "id": "BJeRif5jjL5s"
      },
      "outputs": [],
      "source": [
        "#@title **🌟Settings**\n",
        "\n",
        "import os\n",
        "from ipywidgets import Button\n",
        "from IPython.display import clear_output\n",
        "print(\"👩🏻‍💻 Settings...\")\n",
        "\n",
        "os.environ['TF_CPP_MIN_LOG_LEVEL'] = '3'\n",
        "\n",
        "!git clone https://github.com/TheNeodev/RVC-MAKER.git /content/RVC-MAKER > /dev/null 2>&1\n",
        "!pip install -r /content/Vietnamese_RVC/requirements.txt --no-cache-dir -q > /dev/null 2>&1\n",
        "\n",
        "#@markdown **💻 Installation will take about 2 minutes to complete!**\n",
        "clear_output()\n",
        "Button(description=\"\\u2714 done!\", button_style=\"success\")"
      ]
    },
    {
      "cell_type": "code",
      "execution_count": null,
      "metadata": {
        "id": "cIsBEvHaQWMJ",
        "cellView": "form"
      },
      "outputs": [],
      "source": [
        "#@title **Run webui**\n",
        "import os\n",
        "import shutil\n",
        "\n",
        "%cd /content/Vietnamese_RVC\n",
        "#@markdown **To experience all the features, use the interface :) If you want simplicity, don't use the interface**\n",
        "\n",
        "#@markdown **If you know you can use the chart to check for overtraining 👍**\n",
        "tensorboard = False #@param {type:\"boolean\"}\n",
        "\n",
        "if tensorboard:\n",
        "  %load_ext tensorboard\n",
        "  %tensorboard --logdir ./assets/logs --port=6870\n",
        "\n",
        "!python main/app/app.py --share"
      ]
    }
  ],
  "metadata": {
    "accelerator": "GPU",
    "colab": {
      "collapsed_sections": [
        "tkqks7bO2Cye",
        "XP4ifZaG_yd5",
        "ekfkFFNqppfM",
        "ers351v_CMGN"
      ],
      "gpuType": "T4",
      "provenance": [],
      "include_colab_link": true
    },
    "kernelspec": {
      "display_name": "Python 3",
      "name": "python3"
    },
    "language_info": {
      "name": "python"
    }
  },
  "nbformat": 4,
  "nbformat_minor": 0
}